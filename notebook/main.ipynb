{
 "cells": [
  {
   "cell_type": "code",
   "execution_count": 18,
   "metadata": {},
   "outputs": [],
   "source": [
    "import pandas as pd\n",
    "import requests\n",
    "import matplotlib.pyplot as plt\n",
    "import seaborn as sns\n",
    "import scipy.stats as stats\n",
    "import numpy as np\n",
    "import requests\n",
    "from io import StringIO\n",
    "from sklearn.svm import SVC\n",
    "from sklearn.preprocessing import MinMaxScaler, LabelEncoder, OneHotEncoder"
   ]
  },
  {
   "cell_type": "code",
   "execution_count": 15,
   "metadata": {},
   "outputs": [
    {
     "name": "stderr",
     "output_type": "stream",
     "text": [
      "c:\\Users\\Black\\AppData\\Local\\Programs\\Python\\Python312\\Lib\\site-packages\\urllib3\\connectionpool.py:1099: InsecureRequestWarning: Unverified HTTPS request is being made to host 'raw.githubusercontent.com'. Adding certificate verification is strongly advised. See: https://urllib3.readthedocs.io/en/latest/advanced-usage.html#tls-warnings\n",
      "  warnings.warn(\n"
     ]
    },
    {
     "name": "stdout",
     "output_type": "stream",
     "text": [
      "   Gender  Age  Academic Pressure  Study Satisfaction     Sleep Duration  \\\n",
      "0    Male   28                2.0                 4.0          7-8 hours   \n",
      "1    Male   28                4.0                 5.0          5-6 hours   \n",
      "2    Male   25                1.0                 3.0          5-6 hours   \n",
      "3    Male   23                1.0                 4.0  More than 8 hours   \n",
      "4  Female   31                1.0                 5.0  More than 8 hours   \n",
      "\n",
      "  Dietary Habits Have you ever had suicidal thoughts ?  Study Hours  \\\n",
      "0       Moderate                                   Yes            9   \n",
      "1        Healthy                                   Yes            7   \n",
      "2      Unhealthy                                   Yes           10   \n",
      "3      Unhealthy                                   Yes            7   \n",
      "4        Healthy                                   Yes            4   \n",
      "\n",
      "   Financial Stress Family History of Mental Illness Depression  \n",
      "0                 2                              Yes         No  \n",
      "1                 1                              Yes         No  \n",
      "2                 4                               No        Yes  \n",
      "3                 2                              Yes         No  \n",
      "4                 2                              Yes         No  \n",
      "   gender  age university   degree_level      degree_major academic_year  \\\n",
      "0    Male   20         PU  Undergraduate      Data Science      2nd year   \n",
      "1    Male   20        UET   Postgraduate  Computer Science      3rd year   \n",
      "2    Male   20       FAST  Undergraduate  Computer Science      3rd year   \n",
      "3    Male   20        UET  Undergraduate  Computer Science      3rd year   \n",
      "4  Female   20        UET  Undergraduate  Computer Science      3rd year   \n",
      "\n",
      "      cgpa residential_status campus_discrimination sports_engagement  ...  \\\n",
      "0  3.0-3.5         Off-Campus                    No         No Sports  ...   \n",
      "1  3.0-3.5         Off-Campus                    No         1-3 times  ...   \n",
      "2  2.5-3.0         Off-Campus                    No         1-3 times  ...   \n",
      "3  2.5-3.0          On-Campus                    No         No Sports  ...   \n",
      "4  3.0-3.5         Off-Campus                   Yes         No Sports  ...   \n",
      "\n",
      "  study_satisfaction  academic_workload   academic_pressure  \\\n",
      "0                  5                   4                  5   \n",
      "1                  5                   4                  4   \n",
      "2                  5                   5                  5   \n",
      "3                  3                   5                  4   \n",
      "4                  3                   5                  5   \n",
      "\n",
      "   financial_concerns  social_relationships  depression  anxiety  isolation  \\\n",
      "0                   4                     3           2        1          1   \n",
      "1                   1                     3           3        3          3   \n",
      "2                   3                     4           2        3          3   \n",
      "3                   4                     1           5        5          5   \n",
      "4                   2                     3           5        5          4   \n",
      "\n",
      "   future_insecurity                           stress_relief_activities  \n",
      "0                  2  Religious Activities, Social Connections, Onli...  \n",
      "1                  4                               Online Entertainment  \n",
      "2                  1  Religious Activities, Sports and Fitness, Onli...  \n",
      "3                  3                               Online Entertainment  \n",
      "4                  4                               Online Entertainment  \n",
      "\n",
      "[5 rows x 21 columns]\n"
     ]
    },
    {
     "name": "stderr",
     "output_type": "stream",
     "text": [
      "c:\\Users\\Black\\AppData\\Local\\Programs\\Python\\Python312\\Lib\\site-packages\\urllib3\\connectionpool.py:1099: InsecureRequestWarning: Unverified HTTPS request is being made to host 'raw.githubusercontent.com'. Adding certificate verification is strongly advised. See: https://urllib3.readthedocs.io/en/latest/advanced-usage.html#tls-warnings\n",
      "  warnings.warn(\n"
     ]
    }
   ],
   "source": [
    "dataset1_url = \"https://raw.githubusercontent.com/hbedros/data622-assignment4/main/data/dataset1.csv\"\n",
    "dataset2_url = \"https://raw.githubusercontent.com/hbedros/data622-assignment4/main/data/dataset2.csv\"\n",
    "\n",
    "response1 = requests.get(dataset1_url, verify=False)\n",
    "response2 = requests.get(dataset2_url, verify=False)\n",
    "\n",
    "data1 = StringIO(response1.text)\n",
    "data2 = StringIO(response2.text)\n",
    "dataset1 = pd.read_csv(data1)\n",
    "dataset2 = pd.read_csv(data2)\n",
    "\n",
    "print(dataset1.head())\n",
    "print(dataset2.head())\n"
   ]
  },
  {
   "cell_type": "markdown",
   "metadata": {},
   "source": [
    "## Cleaning Dataset 1 - The Depression Dataset"
   ]
  },
  {
   "cell_type": "code",
   "execution_count": 16,
   "metadata": {},
   "outputs": [
    {
     "name": "stdout",
     "output_type": "stream",
     "text": [
      "Gender                                   0\n",
      "Age                                      0\n",
      "Academic Pressure                        0\n",
      "Study Satisfaction                       0\n",
      "Sleep Duration                           0\n",
      "Dietary Habits                           0\n",
      "Have you ever had suicidal thoughts ?    0\n",
      "Study Hours                              0\n",
      "Financial Stress                         0\n",
      "Family History of Mental Illness         0\n",
      "Depression                               0\n",
      "dtype: int64\n",
      "Cleaned Columns Index(['Gender', 'Age', 'Academic Pressure', 'Study Satisfaction',\n",
      "       'Sleep Duration', 'Dietary Habits',\n",
      "       'Have you ever had suicidal thoughts ?', 'Study Hours',\n",
      "       'Financial Stress', 'Family History of Mental Illness', 'Depression'],\n",
      "      dtype='object')\n"
     ]
    }
   ],
   "source": [
    "#check for missing observations\n",
    "print(dataset1.isnull().sum())\n",
    "\n",
    "#No missing data present\n",
    "\n",
    "df1 = pd.DataFrame(dataset1)\n",
    "\n",
    "df1.columns = df1.columns.str.strip()\n",
    "\n",
    "print(\"Cleaned Columns\", df1.columns)\n",
    "\n",
    "df1 = df1.rename(columns = {'Have you ever had suicidal thoughts ?':'suicidal thoughts'})\n",
    "\n",
    "df1['Sleep Duration'] = pd.Categorical(df1['Sleep Duration'], categories=['Less than 5 hours', '5-6 hours', '7-8 hours', 'More than 8 hours'])"
   ]
  },
  {
   "cell_type": "code",
   "execution_count": null,
   "metadata": {},
   "outputs": [
    {
     "name": "stdout",
     "output_type": "stream",
     "text": [
      "   Gender     Age  Academic Pressure  Study Satisfaction     Sleep Duration  \\\n",
      "0    Male  0.6250               0.25                0.75          7-8 hours   \n",
      "1    Male  0.6250               0.75                1.00          5-6 hours   \n",
      "2    Male  0.4375               0.00                0.50          5-6 hours   \n",
      "3    Male  0.3125               0.00                0.75  More than 8 hours   \n",
      "4  Female  0.8125               0.00                1.00  More than 8 hours   \n",
      "\n",
      "  Dietary Habits suicidal thoughts  Study Hours  Financial Stress  \\\n",
      "0       Moderate               Yes     0.750000              0.25   \n",
      "1        Healthy               Yes     0.583333              0.00   \n",
      "2      Unhealthy               Yes     0.833333              0.75   \n",
      "3      Unhealthy               Yes     0.583333              0.25   \n",
      "4        Healthy               Yes     0.333333              0.25   \n",
      "\n",
      "  Family History of Mental Illness Depression  \n",
      "0                              Yes         No  \n",
      "1                              Yes         No  \n",
      "2                               No        Yes  \n",
      "3                              Yes         No  \n",
      "4                              Yes         No  \n"
     ]
    }
   ],
   "source": [
    "numeric_cols_df1 = ['Age', 'Academic Pressure', 'Study Satisfaction', 'Study Hours', 'Financial Stress']\n",
    "categorical_cols_df1 = ['Gender', 'Sleep Duration', 'Dietary Habits', 'suicidal thoughts', 'Family History of Mental Illness', 'Depression']\n",
    "\n",
    "scaler = MinMaxScaler()\n",
    "df1[numeric_cols_df1] = scaler.fit_transform(df1[numeric_cols_df1])\n",
    "\n",
    "print(df1.head())\n",
    "\n"
   ]
  },
  {
   "cell_type": "code",
   "execution_count": 16,
   "metadata": {},
   "outputs": [
    {
     "name": "stdout",
     "output_type": "stream",
     "text": [
      "Index(['gender', 'age', 'university', 'degree_level', 'degree_major',\n",
      "       'academic_year', 'cgpa', 'residential_status', 'campus_discrimination',\n",
      "       'sports_engagement', 'average_sleep', 'study_satisfaction',\n",
      "       'academic_workload ', 'academic_pressure', 'financial_concerns',\n",
      "       'social_relationships', 'depression', 'anxiety', 'isolation',\n",
      "       'future_insecurity', 'stress_relief_activities'],\n",
      "      dtype='object')\n"
     ]
    }
   ],
   "source": [
    "# dataset2s clean up & EDA\n",
    "\n",
    "#check for nulls\n",
    "# print(dataset2.isnull().sum())\n",
    "\n",
    "print(dataset2.columns)"
   ]
  },
  {
   "cell_type": "code",
   "execution_count": 5,
   "metadata": {},
   "outputs": [
    {
     "name": "stdout",
     "output_type": "stream",
     "text": [
      "Cleaned Columns: Index(['gender', 'age', 'university', 'degree_level', 'degree_major',\n",
      "       'academic_year', 'cgpa', 'residential_status', 'campus_discrimination',\n",
      "       'sports_engagement', 'average_sleep', 'study_satisfaction',\n",
      "       'academic_workload', 'academic_pressure', 'financial_concerns',\n",
      "       'social_relationships', 'depression', 'anxiety', 'isolation',\n",
      "       'future_insecurity', 'stress_relief_activities'],\n",
      "      dtype='object')\n",
      "   gender       age university   degree_level      degree_major academic_year  \\\n",
      "0    Male  0.333333         PU  Undergraduate      Data Science      2nd year   \n",
      "1    Male  0.333333        UET   Postgraduate  Computer Science      3rd year   \n",
      "2    Male  0.333333       FAST  Undergraduate  Computer Science      3rd year   \n",
      "3    Male  0.333333        UET  Undergraduate  Computer Science      3rd year   \n",
      "4  Female  0.333333        UET  Undergraduate  Computer Science      3rd year   \n",
      "\n",
      "       cgpa residential_status campus_discrimination sports_engagement  ...  \\\n",
      "0  0.866667         Off-Campus                    No         No Sports  ...   \n",
      "1  0.866667         Off-Campus                    No         1-3 times  ...   \n",
      "2  0.733333         Off-Campus                    No         1-3 times  ...   \n",
      "3  0.733333          On-Campus                    No         No Sports  ...   \n",
      "4  0.866667         Off-Campus                   Yes         No Sports  ...   \n",
      "\n",
      "  study_satisfaction  academic_workload  academic_pressure  \\\n",
      "0                1.0           0.666667               1.00   \n",
      "1                1.0           0.666667               0.75   \n",
      "2                1.0           1.000000               1.00   \n",
      "3                0.5           1.000000               0.75   \n",
      "4                0.5           1.000000               1.00   \n",
      "\n",
      "   financial_concerns  social_relationships  depression  anxiety  isolation  \\\n",
      "0                0.75                  0.50        0.25      0.0       0.00   \n",
      "1                0.00                  0.50        0.50      0.5       0.50   \n",
      "2                0.50                  0.75        0.25      0.5       0.50   \n",
      "3                0.75                  0.00        1.00      1.0       1.00   \n",
      "4                0.25                  0.50        1.00      1.0       0.75   \n",
      "\n",
      "   future_insecurity                           stress_relief_activities  \n",
      "0               0.25  Religious Activities, Social Connections, Onli...  \n",
      "1               0.75                               Online Entertainment  \n",
      "2               0.00  Religious Activities, Sports and Fitness, Onli...  \n",
      "3               0.50                               Online Entertainment  \n",
      "4               0.75                               Online Entertainment  \n",
      "\n",
      "[5 rows x 21 columns]\n"
     ]
    }
   ],
   "source": [
    "df2 = pd.DataFrame(dataset2)\n",
    "\n",
    "df2.columns = df2.columns.str.strip()\n",
    "\n",
    "print(\"Cleaned Columns:\", df2.columns)\n",
    "\n",
    "# Convert CGPA ranges to their midpoint\n",
    "def parse_range(val):\n",
    "    if isinstance(val, str) and \"-\" in val:\n",
    "        lower, upper = map(float, val.split(\"-\"))\n",
    "        return (lower + upper) / 2\n",
    "    else:\n",
    "        return float(val)\n",
    "\n",
    "df2[\"cgpa\"] = df2[\"cgpa\"].apply(parse_range)\n",
    "\n",
    "numerical_cols = [\n",
    "    \"age\", \"cgpa\", \"study_satisfaction\", \"academic_workload\", \n",
    "    \"academic_pressure\", \"financial_concerns\", \"social_relationships\", \n",
    "    \"depression\", \"anxiety\", \"isolation\", \"future_insecurity\"\n",
    "]\n",
    "\n",
    "# Check for missing columns after cleaning\n",
    "missing_cols = [col for col in numerical_cols if col not in df2.columns]\n",
    "if missing_cols:\n",
    "    print(\"Missing columns after cleaning:\", missing_cols)\n",
    "else:\n",
    "    scaler = MinMaxScaler()\n",
    "    df2[numerical_cols] = scaler.fit_transform(df2[numerical_cols])\n",
    "\n",
    "    print(df2.head())\n"
   ]
  }
 ],
 "metadata": {
  "kernelspec": {
   "display_name": "Python 3",
   "language": "python",
   "name": "python3"
  },
  "language_info": {
   "codemirror_mode": {
    "name": "ipython",
    "version": 3
   },
   "file_extension": ".py",
   "mimetype": "text/x-python",
   "name": "python",
   "nbconvert_exporter": "python",
   "pygments_lexer": "ipython3",
   "version": "3.12.1"
  }
 },
 "nbformat": 4,
 "nbformat_minor": 2
}
